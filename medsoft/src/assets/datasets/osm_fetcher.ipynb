{
 "cells": [
  {
   "cell_type": "code",
   "execution_count": 25,
   "metadata": {},
   "outputs": [],
   "source": [
    "import os\n",
    "import requests\n",
    "import csv\n",
    "import json\n"
   ]
  },
  {
   "cell_type": "code",
   "execution_count": 26,
   "metadata": {},
   "outputs": [],
   "source": [
    "# TIP - QC as center of origin\n",
    "ORIGIN = \"14.6091,121.0223\"\n",
    "OVERPASS_API_URL = \"https://overpass-api.de/api/interpreter\"\n",
    "radius_m= 10000  \n"
   ]
  },
  {
   "cell_type": "code",
   "execution_count": 27,
   "metadata": {},
   "outputs": [],
   "source": [
    "def fetch_medical_facilities():\n",
    "    overpass_query = f\"\"\"\n",
    "    [out:json];\n",
    "    area[\"ISO3166-1\"=\"PH\"]->.city;\n",
    "    (\n",
    "      node[\"amenity\"=\"hospital\"](area.city);\n",
    "      way[\"amenity\"=\"hospital\"](area.city);\n",
    "      relation[\"amenity\"=\"hospital\"](area.city);\n",
    "    );\n",
    "    out body;\n",
    "    >;\n",
    "    out skel qt;\n",
    "    out meta;\n",
    "    \"\"\"\n",
    "\n",
    "    response = requests.post(OVERPASS_API_URL, data=overpass_query)\n",
    "\n",
    "    if response.status_code == 200:\n",
    "        results = response.json()[\"elements\"]\n",
    "        medical_facilities = []\n",
    "        missing_city_count = 0\n",
    "        for result in results:\n",
    "            name = result.get(\"tags\", {}).get(\"name\", \"Unknown\")\n",
    "            lat = result.get(\"lat\", \"\")\n",
    "            lon = result.get(\"lon\", \"\")\n",
    "            city = result.get(\"tags\", {}).get(\"addr:city\", \"\")\n",
    "            if lat and lon and name != \"Unknown\": \n",
    "                medical_facilities.append({\n",
    "                    \"name\": name,\n",
    "                    \"type\": \"Feature\",\n",
    "                    \"geometry\": {\n",
    "                        \"type\": \"Point\",\n",
    "                        \"coordinates\": [float(lon), float(lat)]\n",
    "                    },\n",
    "                    \"city\": city\n",
    "                })\n",
    "                if not city:\n",
    "                    missing_city_count += 1\n",
    "\n",
    "        # hospital type categorization\n",
    "        for facility in medical_facilities:\n",
    "            if \"General\" in facility[\"name\"]:\n",
    "                facility[\"hospital_type\"] = \"Primary\"\n",
    "            elif \"District\" in facility[\"name\"]:\n",
    "                facility[\"hospital_type\"] = \"Secondary\"\n",
    "            else:\n",
    "                facility[\"hospital_type\"] = \"Tertiary\"\n",
    "\n",
    "        return medical_facilities, missing_city_count\n",
    "    else:\n",
    "        print(\"Error fetching data from Overpass API\")\n",
    "        return [], 0"
   ]
  },
  {
   "cell_type": "code",
   "execution_count": 28,
   "metadata": {},
   "outputs": [],
   "source": [
    "\n",
    "# Fetch medical facilities and missing city count\n",
    "medical_facilities, missing_city_count = fetch_medical_facilities()"
   ]
  },
  {
   "cell_type": "code",
   "execution_count": 29,
   "metadata": {},
   "outputs": [],
   "source": [
    "filer = \"\"\n",
    "\n",
    "# Save as GeoJSON\n",
    "geojson_file = os.path.join(os.path.dirname(filer), \"medical_facilities_osm.geojson\")\n",
    "with open(geojson_file, \"w\", encoding=\"utf-8\") as file:\n",
    "    file.write(json.dumps({\n",
    "        \"type\": \"FeatureCollection\",\n",
    "        \"features\": medical_facilities\n",
    "    }, indent=2))\n",
    "\n",
    "# Save as CSV \n",
    "csv_file = os.path.join(os.path.dirname(filer), \"medical_facilities_osm.csv\")\n",
    "with open(csv_file, \"w\", newline=\"\", encoding=\"utf-8\") as file:\n",
    "    writer = csv.writer(file)\n",
    "    writer.writerow([\"Name\", \"Latitude\", \"Longitude\", \"Hospital Type\", \"City\", \"Location\"])\n",
    "    for facility in medical_facilities:\n",
    "        location = f\"{facility['geometry']['coordinates'][1]}, {facility['geometry']['coordinates'][0]}\"\n",
    "        writer.writerow([facility[\"name\"], facility[\"geometry\"][\"coordinates\"][1], facility[\"geometry\"][\"coordinates\"][0], facility[\"hospital_type\"], facility[\"city\"], location])"
   ]
  },
  {
   "cell_type": "code",
   "execution_count": 30,
   "metadata": {},
   "outputs": [
    {
     "name": "stdout",
     "output_type": "stream",
     "text": [
      "Data saved to medical_facilities_osm.csv and medical_facilities_osm.geojson\n",
      "Out of 444, There are 357 facilities lacking their respective location.\n",
      "Only 19.59% have their respective locations\n"
     ]
    }
   ],
   "source": [
    "\n",
    "print(f\"Data saved to {csv_file} and {geojson_file}\")\n",
    "print(f\"Out of {len(medical_facilities)}, There are {missing_city_count} facilities lacking their respective location.\")\n",
    "print(f\"Only {abs(((missing_city_count / len(medical_facilities)) * 100)-100):.2f}% have their respective locations\")\n"
   ]
  }
 ],
 "metadata": {
  "kernelspec": {
   "display_name": "Python 3",
   "language": "python",
   "name": "python3"
  },
  "language_info": {
   "codemirror_mode": {
    "name": "ipython",
    "version": 3
   },
   "file_extension": ".py",
   "mimetype": "text/x-python",
   "name": "python",
   "nbconvert_exporter": "python",
   "pygments_lexer": "ipython3",
   "version": "3.9.0"
  }
 },
 "nbformat": 4,
 "nbformat_minor": 2
}
